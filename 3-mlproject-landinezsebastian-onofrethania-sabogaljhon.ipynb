{
  "nbformat": 4,
  "nbformat_minor": 0,
  "metadata": {
    "colab": {
      "name": "02-mlproject-lastnamefirstname1-lastnamefirstname2-lastnamefirstname3.ipynb",
      "provenance": [],
      "collapsed_sections": [],
      "include_colab_link": true
    },
    "kernelspec": {
      "name": "python3",
      "display_name": "Python 3"
    },
    "language_info": {
      "name": "python"
    }
  },
  "cells": [
    {
      "cell_type": "markdown",
      "metadata": {
        "id": "view-in-github",
        "colab_type": "text"
      },
      "source": [
        "<a href=\"https://colab.research.google.com/github/almonil/Elpegue/blob/Principal/3-mlproject-landinezsebastian-onofrethania-sabogaljhon.ipynb\" target=\"_parent\"><img src=\"https://colab.research.google.com/assets/colab-badge.svg\" alt=\"Open In Colab\"/></a>"
      ]
    },
    {
      "cell_type": "markdown",
      "metadata": {
        "id": "MtZ_IrJcLdMK"
      },
      "source": [
        "Proyecto\n",
        "\n",
        "\n"
      ]
    },
    {
      "cell_type": "markdown",
      "metadata": {
        "id": "I520lMVHWSWb"
      },
      "source": [
        "Se importan las librerias"
      ]
    },
    {
      "cell_type": "code",
      "metadata": {
        "id": "-f__Ioyc1h7d"
      },
      "source": [
        "import numpy as np\n",
        "import pandas as pd\n",
        "import seaborn as sns\n",
        "import matplotlib.pyplot as plt\n",
        "from sklearn.model_selection import train_test_split\n",
        "from sklearn.linear_model import LogisticRegression\n",
        "from sklearn.metrics import accuracy_score\n",
        "from keras.layers import Input, Dense\n",
        "from keras.models import Model, load_model\n",
        "from sklearn import metrics\n",
        "from sklearn.preprocessing import StandardScaler\n",
        "from keras.models import Model, load_model\n",
        "import matplotlib.ticker as ticker\n"
      ],
      "execution_count": 1,
      "outputs": []
    },
    {
      "cell_type": "markdown",
      "metadata": {
        "id": "bENQsOVeWXGS"
      },
      "source": [
        "Se carga el archivo de datos a manejar en este caso Credit_data.csv"
      ]
    },
    {
      "cell_type": "code",
      "metadata": {
        "id": "Xk--ayku4n3Y"
      },
      "source": [
        "#Se carga el dataset a pandas dataframe\n",
        "df= pd.read_csv('/content/credit_data.csv', delimiter=',')\n",
        "\n"
      ],
      "execution_count": 28,
      "outputs": []
    },
    {
      "cell_type": "markdown",
      "metadata": {
        "id": "sFCDwbmuWcum"
      },
      "source": [
        "Preprocesamiento de datos.\n",
        "\n",
        "Aqui se ven ejemplos del dataframe y el uso de distintas librerias."
      ]
    },
    {
      "cell_type": "code",
      "metadata": {
        "colab": {
          "base_uri": "https://localhost:8080/"
        },
        "id": "jduLhtUD5mvM",
        "outputId": "52d44a51-5a4d-4b2e-b091-64e7954c7a80"
      },
      "source": [
        "import tensorflow as tf\n",
        "from tensorflow import keras\n",
        "from tensorflow.keras.layers import Conv2D, MaxPooling2D, Dropout, Flatten, Dense\n",
        "\n",
        "\n",
        "import numpy as np\n",
        "import os\n",
        "import sys\n",
        "\n",
        "\n",
        "import matplotlib.pyplot as plt\n",
        "import pandas as pd\n",
        "import seaborn as sns\n",
        "import cv2\n",
        "import IPython\n",
        "from sklearn.base import BaseEstimator,TransformerMixin\n",
        "from sklearn.pipeline import Pipeline\n",
        "from sklearn.model_selection import ShuffleSplit,train_test_split,StratifiedShuffleSplit\n",
        "from sklearn.metrics import roc_auc_score,accuracy_score,recall_score,confusion_matrix\n",
        "from sklearn.preprocessing import StandardScaler\n",
        "from sklearn.mixture import GaussianMixture,BayesianGaussianMixture\n",
        "import joblib\n",
        "from six.moves import urllib\n",
        "import warnings\n",
        "warnings.filterwarnings(\"ignore\")\n",
        "print(tf.__version__)\n"
      ],
      "execution_count": 42,
      "outputs": [
        {
          "output_type": "stream",
          "name": "stdout",
          "text": [
            "2.7.0\n"
          ]
        }
      ]
    },
    {
      "cell_type": "markdown",
      "metadata": {
        "id": "aLU1a7wlYKUv"
      },
      "source": [
        "determinar el número de registros en el conjunto de datos"
      ]
    },
    {
      "cell_type": "code",
      "metadata": {
        "colab": {
          "base_uri": "https://localhost:8080/"
        },
        "id": "obbbXdB_X26c",
        "outputId": "436613f7-9533-4c69-9da2-43ba486ea835"
      },
      "source": [
        "print('El dataset contiene {0} filas and {1} columnas.'.format(df.shape[0], df.shape[1]))"
      ],
      "execution_count": null,
      "outputs": [
        {
          "output_type": "stream",
          "name": "stdout",
          "text": [
            "El dataset contiene 49610 filas and 31 columnas.\n"
          ]
        }
      ]
    },
    {
      "cell_type": "markdown",
      "metadata": {
        "id": "q5JadYOSKuC2"
      },
      "source": [
        "\n",
        "\n",
        "Las características ya están escaladas y los nombres de las características no se muestran por razones de privacidad.\n",
        "\n",
        "\n",
        "Ahora, veamos cuántas de las transacciones son fraudulentas."
      ]
    },
    {
      "cell_type": "markdown",
      "metadata": {
        "id": "7MjT6v2MMa2D"
      },
      "source": [
        "loc localiza todos los datos por columna o declaración condicional\n"
      ]
    },
    {
      "cell_type": "code",
      "metadata": {
        "colab": {
          "base_uri": "https://localhost:8080/",
          "height": 226
        },
        "id": "9arVdloiI-zu",
        "outputId": "e1dd7329-5866-49da-b09b-79fba02969fc"
      },
      "source": [
        "# Shuffle the data\n",
        "df = df.sample(frac=1)\n",
        "\n",
        "# Print the first 5 rows\n",
        "df.head()"
      ],
      "execution_count": 30,
      "outputs": [
        {
          "output_type": "execute_result",
          "data": {
            "text/html": [
              "<div>\n",
              "<style scoped>\n",
              "    .dataframe tbody tr th:only-of-type {\n",
              "        vertical-align: middle;\n",
              "    }\n",
              "\n",
              "    .dataframe tbody tr th {\n",
              "        vertical-align: top;\n",
              "    }\n",
              "\n",
              "    .dataframe thead th {\n",
              "        text-align: right;\n",
              "    }\n",
              "</style>\n",
              "<table border=\"1\" class=\"dataframe\">\n",
              "  <thead>\n",
              "    <tr style=\"text-align: right;\">\n",
              "      <th></th>\n",
              "      <th>Time</th>\n",
              "      <th>V1</th>\n",
              "      <th>V2</th>\n",
              "      <th>V3</th>\n",
              "      <th>V4</th>\n",
              "      <th>V5</th>\n",
              "      <th>V6</th>\n",
              "      <th>V7</th>\n",
              "      <th>V8</th>\n",
              "      <th>V9</th>\n",
              "      <th>V10</th>\n",
              "      <th>V11</th>\n",
              "      <th>V12</th>\n",
              "      <th>V13</th>\n",
              "      <th>V14</th>\n",
              "      <th>V15</th>\n",
              "      <th>V16</th>\n",
              "      <th>V17</th>\n",
              "      <th>V18</th>\n",
              "      <th>V19</th>\n",
              "      <th>V20</th>\n",
              "      <th>V21</th>\n",
              "      <th>V22</th>\n",
              "      <th>V23</th>\n",
              "      <th>V24</th>\n",
              "      <th>V25</th>\n",
              "      <th>V26</th>\n",
              "      <th>V27</th>\n",
              "      <th>V28</th>\n",
              "      <th>Amount</th>\n",
              "      <th>Class</th>\n",
              "    </tr>\n",
              "  </thead>\n",
              "  <tbody>\n",
              "    <tr>\n",
              "      <th>7773</th>\n",
              "      <td>10825</td>\n",
              "      <td>-0.969311</td>\n",
              "      <td>1.253038</td>\n",
              "      <td>0.763504</td>\n",
              "      <td>-0.440930</td>\n",
              "      <td>0.267168</td>\n",
              "      <td>-0.526955</td>\n",
              "      <td>1.004812</td>\n",
              "      <td>-0.084375</td>\n",
              "      <td>0.534284</td>\n",
              "      <td>-0.691453</td>\n",
              "      <td>1.757790</td>\n",
              "      <td>-1.851848</td>\n",
              "      <td>1.758176</td>\n",
              "      <td>1.881346</td>\n",
              "      <td>-1.350296</td>\n",
              "      <td>0.464585</td>\n",
              "      <td>-0.185960</td>\n",
              "      <td>0.459745</td>\n",
              "      <td>-0.495209</td>\n",
              "      <td>-0.305830</td>\n",
              "      <td>-0.060217</td>\n",
              "      <td>0.061753</td>\n",
              "      <td>-0.101820</td>\n",
              "      <td>-0.028199</td>\n",
              "      <td>-0.197618</td>\n",
              "      <td>0.058140</td>\n",
              "      <td>-0.465951</td>\n",
              "      <td>-0.207689</td>\n",
              "      <td>59.91</td>\n",
              "      <td>0.0</td>\n",
              "    </tr>\n",
              "    <tr>\n",
              "      <th>11482</th>\n",
              "      <td>19900</td>\n",
              "      <td>1.305394</td>\n",
              "      <td>-0.545034</td>\n",
              "      <td>0.719509</td>\n",
              "      <td>-0.367077</td>\n",
              "      <td>-0.917425</td>\n",
              "      <td>-0.103744</td>\n",
              "      <td>-0.855273</td>\n",
              "      <td>0.048929</td>\n",
              "      <td>0.627962</td>\n",
              "      <td>0.259423</td>\n",
              "      <td>2.385008</td>\n",
              "      <td>-2.221441</td>\n",
              "      <td>1.125090</td>\n",
              "      <td>1.286177</td>\n",
              "      <td>-1.644771</td>\n",
              "      <td>0.410873</td>\n",
              "      <td>1.537358</td>\n",
              "      <td>-1.465664</td>\n",
              "      <td>0.594955</td>\n",
              "      <td>-0.061337</td>\n",
              "      <td>-0.087025</td>\n",
              "      <td>0.077668</td>\n",
              "      <td>0.030646</td>\n",
              "      <td>0.191093</td>\n",
              "      <td>0.392170</td>\n",
              "      <td>-0.281742</td>\n",
              "      <td>-0.001753</td>\n",
              "      <td>-0.006358</td>\n",
              "      <td>5.00</td>\n",
              "      <td>0.0</td>\n",
              "    </tr>\n",
              "    <tr>\n",
              "      <th>978</th>\n",
              "      <td>741</td>\n",
              "      <td>-1.460494</td>\n",
              "      <td>1.072256</td>\n",
              "      <td>1.525621</td>\n",
              "      <td>0.122964</td>\n",
              "      <td>-0.874790</td>\n",
              "      <td>-0.382503</td>\n",
              "      <td>0.025338</td>\n",
              "      <td>0.353055</td>\n",
              "      <td>0.923318</td>\n",
              "      <td>0.274842</td>\n",
              "      <td>-1.119679</td>\n",
              "      <td>-0.395008</td>\n",
              "      <td>-1.069482</td>\n",
              "      <td>-0.307002</td>\n",
              "      <td>-0.003806</td>\n",
              "      <td>-0.099091</td>\n",
              "      <td>-0.004277</td>\n",
              "      <td>0.099417</td>\n",
              "      <td>0.040700</td>\n",
              "      <td>0.194302</td>\n",
              "      <td>0.037687</td>\n",
              "      <td>0.534206</td>\n",
              "      <td>-0.218095</td>\n",
              "      <td>0.429192</td>\n",
              "      <td>-0.068667</td>\n",
              "      <td>0.428325</td>\n",
              "      <td>0.159005</td>\n",
              "      <td>0.040868</td>\n",
              "      <td>29.99</td>\n",
              "      <td>0.0</td>\n",
              "    </tr>\n",
              "    <tr>\n",
              "      <th>2530</th>\n",
              "      <td>2095</td>\n",
              "      <td>-0.424293</td>\n",
              "      <td>0.677811</td>\n",
              "      <td>1.212060</td>\n",
              "      <td>-2.007860</td>\n",
              "      <td>0.205564</td>\n",
              "      <td>-1.219779</td>\n",
              "      <td>1.107751</td>\n",
              "      <td>-0.329355</td>\n",
              "      <td>0.797146</td>\n",
              "      <td>-1.196337</td>\n",
              "      <td>0.183773</td>\n",
              "      <td>0.453661</td>\n",
              "      <td>-0.225205</td>\n",
              "      <td>0.114045</td>\n",
              "      <td>1.104132</td>\n",
              "      <td>-0.971886</td>\n",
              "      <td>-0.177241</td>\n",
              "      <td>-0.521472</td>\n",
              "      <td>-0.583184</td>\n",
              "      <td>-0.007850</td>\n",
              "      <td>0.110314</td>\n",
              "      <td>0.734821</td>\n",
              "      <td>-0.226985</td>\n",
              "      <td>0.407778</td>\n",
              "      <td>-0.040911</td>\n",
              "      <td>-0.830208</td>\n",
              "      <td>0.256227</td>\n",
              "      <td>-0.013636</td>\n",
              "      <td>1.00</td>\n",
              "      <td>0.0</td>\n",
              "    </tr>\n",
              "    <tr>\n",
              "      <th>10436</th>\n",
              "      <td>16928</td>\n",
              "      <td>-1.617922</td>\n",
              "      <td>-0.782478</td>\n",
              "      <td>2.017603</td>\n",
              "      <td>-2.010349</td>\n",
              "      <td>-0.154127</td>\n",
              "      <td>-0.552193</td>\n",
              "      <td>0.161447</td>\n",
              "      <td>-0.069064</td>\n",
              "      <td>2.576103</td>\n",
              "      <td>-2.276675</td>\n",
              "      <td>0.731332</td>\n",
              "      <td>-1.381017</td>\n",
              "      <td>2.732492</td>\n",
              "      <td>0.822400</td>\n",
              "      <td>0.093131</td>\n",
              "      <td>-0.548719</td>\n",
              "      <td>0.550328</td>\n",
              "      <td>-0.008697</td>\n",
              "      <td>-0.528828</td>\n",
              "      <td>-0.014350</td>\n",
              "      <td>0.106439</td>\n",
              "      <td>0.730094</td>\n",
              "      <td>0.102891</td>\n",
              "      <td>0.118093</td>\n",
              "      <td>0.232499</td>\n",
              "      <td>-0.063026</td>\n",
              "      <td>-0.026285</td>\n",
              "      <td>0.190787</td>\n",
              "      <td>144.00</td>\n",
              "      <td>0.0</td>\n",
              "    </tr>\n",
              "  </tbody>\n",
              "</table>\n",
              "</div>"
            ],
            "text/plain": [
              "        Time        V1        V2        V3  ...       V27       V28  Amount  Class\n",
              "7773   10825 -0.969311  1.253038  0.763504  ... -0.465951 -0.207689   59.91    0.0\n",
              "11482  19900  1.305394 -0.545034  0.719509  ... -0.001753 -0.006358    5.00    0.0\n",
              "978      741 -1.460494  1.072256  1.525621  ...  0.159005  0.040868   29.99    0.0\n",
              "2530    2095 -0.424293  0.677811  1.212060  ...  0.256227 -0.013636    1.00    0.0\n",
              "10436  16928 -1.617922 -0.782478  2.017603  ... -0.026285  0.190787  144.00    0.0\n",
              "\n",
              "[5 rows x 31 columns]"
            ]
          },
          "metadata": {},
          "execution_count": 30
        }
      ]
    },
    {
      "cell_type": "markdown",
      "metadata": {
        "id": "ayyBpR6DMscC"
      },
      "source": [
        ""
      ]
    },
    {
      "cell_type": "code",
      "metadata": {
        "id": "l28XmOYYMsFq",
        "colab": {
          "base_uri": "https://localhost:8080/"
        },
        "outputId": "18ae760c-91da-49ab-bebb-cf7ed02f2a77"
      },
      "source": [
        "df['Class'].value_counts()\n",
        "df.info()"
      ],
      "execution_count": 31,
      "outputs": [
        {
          "output_type": "stream",
          "name": "stdout",
          "text": [
            "<class 'pandas.core.frame.DataFrame'>\n",
            "Int64Index: 15936 entries, 7773 to 4983\n",
            "Data columns (total 31 columns):\n",
            " #   Column  Non-Null Count  Dtype  \n",
            "---  ------  --------------  -----  \n",
            " 0   Time    15936 non-null  int64  \n",
            " 1   V1      15936 non-null  float64\n",
            " 2   V2      15936 non-null  float64\n",
            " 3   V3      15936 non-null  float64\n",
            " 4   V4      15936 non-null  float64\n",
            " 5   V5      15936 non-null  float64\n",
            " 6   V6      15936 non-null  float64\n",
            " 7   V7      15936 non-null  float64\n",
            " 8   V8      15936 non-null  float64\n",
            " 9   V9      15936 non-null  float64\n",
            " 10  V10     15936 non-null  float64\n",
            " 11  V11     15936 non-null  float64\n",
            " 12  V12     15936 non-null  float64\n",
            " 13  V13     15936 non-null  float64\n",
            " 14  V14     15936 non-null  float64\n",
            " 15  V15     15936 non-null  float64\n",
            " 16  V16     15936 non-null  float64\n",
            " 17  V17     15936 non-null  float64\n",
            " 18  V18     15936 non-null  float64\n",
            " 19  V19     15936 non-null  float64\n",
            " 20  V20     15936 non-null  float64\n",
            " 21  V21     15936 non-null  float64\n",
            " 22  V22     15936 non-null  float64\n",
            " 23  V23     15935 non-null  float64\n",
            " 24  V24     15935 non-null  float64\n",
            " 25  V25     15935 non-null  float64\n",
            " 26  V26     15935 non-null  float64\n",
            " 27  V27     15935 non-null  float64\n",
            " 28  V28     15935 non-null  float64\n",
            " 29  Amount  15935 non-null  float64\n",
            " 30  Class   15935 non-null  float64\n",
            "dtypes: float64(30), int64(1)\n",
            "memory usage: 3.9 MB\n"
          ]
        }
      ]
    },
    {
      "cell_type": "markdown",
      "metadata": {
        "id": "Yu0Z-_L-NyVe"
      },
      "source": [
        "Como podemos ver, sólo hay 492 casos de fraude entre 284807 muestras"
      ]
    },
    {
      "cell_type": "code",
      "metadata": {
        "colab": {
          "base_uri": "https://localhost:8080/",
          "height": 286
        },
        "id": "ALO6dWOiI7Pw",
        "outputId": "18249cbd-0f05-4d39-d948-eb405967f95c"
      },
      "source": [
        "sns.heatmap(df.corr())\n",
        "plt.show()"
      ],
      "execution_count": 32,
      "outputs": [
        {
          "output_type": "display_data",
          "data": {
            "image/png": "[encoded data removed]",
            "text/plain": [
              "<Figure size 432x288 with 2 Axes>"
            ]
          },
          "metadata": {
            "needs_background": "light"
          }
        }
      ]
    },
    {
      "cell_type": "markdown",
      "metadata": {
        "id": "dOI7lZbxR39L"
      },
      "source": [
        "Dos columnas Time y Amount con sus datos de precision no normalizadas\n"
      ]
    },
    {
      "cell_type": "code",
      "metadata": {
        "id": "acfZocW9R_NS",
        "colab": {
          "base_uri": "https://localhost:8080/",
          "height": 300
        },
        "outputId": "2f30a8b8-9b7f-48dc-a9cd-84a55cd37230"
      },
      "source": [
        "#resumen numérico -> sólo columnas de interés no anonimizadas\n",
        "pd.set_option('precision', 3)\n",
        "df.loc[:, ['Time', 'Amount']].describe()"
      ],
      "execution_count": 33,
      "outputs": [
        {
          "output_type": "execute_result",
          "data": {
            "text/html": [
              "<div>\n",
              "<style scoped>\n",
              "    .dataframe tbody tr th:only-of-type {\n",
              "        vertical-align: middle;\n",
              "    }\n",
              "\n",
              "    .dataframe tbody tr th {\n",
              "        vertical-align: top;\n",
              "    }\n",
              "\n",
              "    .dataframe thead th {\n",
              "        text-align: right;\n",
              "    }\n",
              "</style>\n",
              "<table border=\"1\" class=\"dataframe\">\n",
              "  <thead>\n",
              "    <tr style=\"text-align: right;\">\n",
              "      <th></th>\n",
              "      <th>Time</th>\n",
              "      <th>Amount</th>\n",
              "    </tr>\n",
              "  </thead>\n",
              "  <tbody>\n",
              "    <tr>\n",
              "      <th>count</th>\n",
              "      <td>15936.000</td>\n",
              "      <td>15935.000</td>\n",
              "    </tr>\n",
              "    <tr>\n",
              "      <th>mean</th>\n",
              "      <td>12121.218</td>\n",
              "      <td>66.390</td>\n",
              "    </tr>\n",
              "    <tr>\n",
              "      <th>std</th>\n",
              "      <td>8982.284</td>\n",
              "      <td>189.355</td>\n",
              "    </tr>\n",
              "    <tr>\n",
              "      <th>min</th>\n",
              "      <td>0.000</td>\n",
              "      <td>0.000</td>\n",
              "    </tr>\n",
              "    <tr>\n",
              "      <th>25%</th>\n",
              "      <td>3633.500</td>\n",
              "      <td>5.490</td>\n",
              "    </tr>\n",
              "    <tr>\n",
              "      <th>50%</th>\n",
              "      <td>10980.000</td>\n",
              "      <td>15.950</td>\n",
              "    </tr>\n",
              "    <tr>\n",
              "      <th>75%</th>\n",
              "      <td>20621.500</td>\n",
              "      <td>53.890</td>\n",
              "    </tr>\n",
              "    <tr>\n",
              "      <th>max</th>\n",
              "      <td>27371.000</td>\n",
              "      <td>7712.430</td>\n",
              "    </tr>\n",
              "  </tbody>\n",
              "</table>\n",
              "</div>"
            ],
            "text/plain": [
              "            Time     Amount\n",
              "count  15936.000  15935.000\n",
              "mean   12121.218     66.390\n",
              "std     8982.284    189.355\n",
              "min        0.000      0.000\n",
              "25%     3633.500      5.490\n",
              "50%    10980.000     15.950\n",
              "75%    20621.500     53.890\n",
              "max    27371.000   7712.430"
            ]
          },
          "metadata": {},
          "execution_count": 33
        }
      ]
    },
    {
      "cell_type": "markdown",
      "metadata": {
        "id": "K-AVEFj4llMf"
      },
      "source": [
        "Para evaluar nuestro algoritmo de aprendizaje, tomamos algunos datos etiquetados, clasificados en ejemplos anómalos y no anómalos.\n",
        "\n",
        "Entre esos datos, tomamos una gran proporción de datos buenos y no anómalos para el conjunto de entrenamiento sobre el que entrenar df(x).\n",
        "\n",
        "A continuación, tome una proporción menor de ejemplos mixtos anómalos y no anómalos (normalmente tendrá muchos más ejemplos no anómalos) para sus conjuntos de validación cruzada y de prueba.\n",
        "\n"
      ]
    },
    {
      "cell_type": "code",
      "metadata": {
        "colab": {
          "base_uri": "https://localhost:8080/"
        },
        "id": "Z49UenR0T40y",
        "outputId": "490bf563-ff6d-4c3b-d0b8-efbd2360b9d6"
      },
      "source": [
        "#spliting only non-anomolous examples\n",
        "credit_train,credit_testsplit = train_test_split(df[df['Class'] == 0],test_size=0.1,random_state=42)\n",
        "credit_test,credit_val = train_test_split(credit_testsplit,test_size=0.5,random_state=42)\n",
        "print(\"Train size {} \\n Validation Size {}\\n Test Size {}\".format(\n",
        "    credit_train.shape,credit_val.shape,credit_test.shape\n",
        "))"
      ],
      "execution_count": 36,
      "outputs": [
        {
          "output_type": "stream",
          "name": "stdout",
          "text": [
            "Train size (14275, 31) \n",
            " Validation Size (794, 31)\n",
            " Test Size (793, 31)\n"
          ]
        }
      ]
    },
    {
      "cell_type": "markdown",
      "metadata": {
        "id": "-u5vhHKQU0hd"
      },
      "source": [
        "Entrenar y buscar las anomalias por medio del test \n",
        "\n",
        "\n"
      ]
    },
    {
      "cell_type": "code",
      "metadata": {
        "id": "yyuV1CF5M9Mh",
        "colab": {
          "base_uri": "https://localhost:8080/"
        },
        "outputId": "4034ba92-e303-4a3b-b708-33488090ef7c"
      },
      "source": [
        "credit_test_anomolous,credit_val_anomolous = train_test_split(df[df['Class'] == 1],test_size=0.5,random_state=42)\n",
        "\n",
        "credit_test = credit_test.append(credit_test_anomolous)\n",
        "credit_val = credit_val.append(credit_val_anomolous)\n",
        "\n",
        "print(\"Train size {} \\n Validation Size {}\\n Test Size {}\".format(\n",
        "    credit_train.shape,credit_val.shape,credit_test.shape\n",
        "))"
      ],
      "execution_count": 38,
      "outputs": [
        {
          "output_type": "stream",
          "name": "stdout",
          "text": [
            "Train size (14275, 31) \n",
            " Validation Size (831, 31)\n",
            " Test Size (829, 31)\n"
          ]
        }
      ]
    },
    {
      "cell_type": "code",
      "metadata": {
        "colab": {
          "base_uri": "https://localhost:8080/"
        },
        "id": "6AK66k9vSdwO",
        "outputId": "ba5f8bcc-3eeb-49e1-8f70-1b4d43422cbb"
      },
      "source": [
        "for index,(name,data) in enumerate(zip([\"train\",\"validation\",\"test\"],[credit_train,credit_val,credit_test])):\n",
        "    print(\"{} set : \\n{}\".format(name,data['Class'].value_counts()))\n",
        "    print(\"-\"*10)"
      ],
      "execution_count": 39,
      "outputs": [
        {
          "output_type": "stream",
          "name": "stdout",
          "text": [
            "train set : \n",
            "0.0    14275\n",
            "Name: Class, dtype: int64\n",
            "----------\n",
            "validation set : \n",
            "0.0    794\n",
            "1.0     37\n",
            "Name: Class, dtype: int64\n",
            "----------\n",
            "test set : \n",
            "0.0    793\n",
            "1.0     36\n",
            "Name: Class, dtype: int64\n",
            "----------\n"
          ]
        }
      ]
    },
    {
      "cell_type": "code",
      "metadata": {
        "colab": {
          "base_uri": "https://localhost:8080/"
        },
        "id": "rRWvLGGuUjwW",
        "outputId": "6cf8df25-5141-4727-9f86-9e3e574c4d78"
      },
      "source": [
        "X_train,X_val,X_test,y_train,y_val,y_test = credit_train.drop('Class',axis=1),credit_val.drop('Class',axis=1),credit_test.drop('Class',axis=1),credit_train['Class'].copy(),credit_val['Class'].copy(),credit_test['Class'].copy()\n",
        "\n",
        "X_train.shape"
      ],
      "execution_count": 47,
      "outputs": [
        {
          "output_type": "execute_result",
          "data": {
            "text/plain": [
              "(14275, 30)"
            ]
          },
          "metadata": {},
          "execution_count": 47
        }
      ]
    },
    {
      "cell_type": "markdown",
      "metadata": {
        "id": "skx3W1msOh1x"
      },
      "source": [
        "Ahora nuestro conjunto de datos está listo y dividido entre los conjuntos de entrenamiento, validación y prueba. Ahora encontraremos un número correcto de clusters en el modelo GaussianMixture utilizando las curvas BIC y AIC.\n"
      ]
    },
    {
      "cell_type": "markdown",
      "metadata": {
        "id": "xhZvlzeQL-7_"
      },
      "source": [
        "Un método para hacer clustering basado en el aprendizaje profundo es aprender buenas representaciones de características y luego ejecutar cualquier algoritmo de clustering clásico en las representaciones aprendidas. "
      ]
    },
    {
      "cell_type": "code",
      "metadata": {
        "id": "JXl7keQbcO6L",
        "colab": {
          "base_uri": "https://localhost:8080/"
        },
        "outputId": "a424b225-0f05-4e76-afa4-4acbe1c88b01"
      },
      "source": [
        "bic = []\n",
        "aic = []\n",
        "for cluster in range(2,50):\n",
        "    gm = GaussianMixture(n_components=cluster,verbose=10).fit(X_train)\n",
        "    bic.append(gm.bic(X_train))\n",
        "    aic.append(gm.aic(X_train))\n"
      ],
      "execution_count": 44,
      "outputs": [
        {
          "output_type": "stream",
          "name": "stdout",
          "text": [
            "Initialization 0\n",
            "  Iteration 10\t time lapse 0.29671s\t ll change 0.73884\n",
            "  Iteration 20\t time lapse 0.24717s\t ll change 0.13019\n",
            "  Iteration 30\t time lapse 0.24327s\t ll change 0.05373\n",
            "  Iteration 40\t time lapse 0.27278s\t ll change 0.11666\n",
            "  Iteration 50\t time lapse 0.26464s\t ll change 0.00059\n",
            "Initialization converged: True\t time lapse 1.32544s\t ll -21.06624\n",
            "Initialization 0\n",
            "  Iteration 10\t time lapse 0.43686s\t ll change 0.31961\n",
            "  Iteration 20\t time lapse 0.40775s\t ll change 0.04433\n",
            "  Iteration 30\t time lapse 0.38725s\t ll change 0.01507\n",
            "  Iteration 40\t time lapse 0.38520s\t ll change 0.00356\n",
            "  Iteration 50\t time lapse 0.38811s\t ll change 0.02022\n",
            "  Iteration 60\t time lapse 0.37303s\t ll change 0.57118\n",
            "Initialization converged: True\t time lapse 2.64609s\t ll -15.32008\n",
            "Initialization 0\n",
            "  Iteration 10\t time lapse 0.57030s\t ll change 0.72417\n",
            "  Iteration 20\t time lapse 0.50504s\t ll change 0.00495\n",
            "Initialization converged: True\t time lapse 1.22119s\t ll -12.66219\n",
            "Initialization 0\n",
            "  Iteration 10\t time lapse 0.69397s\t ll change 0.11335\n",
            "  Iteration 20\t time lapse 0.61977s\t ll change 0.08726\n",
            "  Iteration 30\t time lapse 0.60487s\t ll change 0.58244\n",
            "  Iteration 40\t time lapse 0.59798s\t ll change 0.32088\n",
            "  Iteration 50\t time lapse 0.61611s\t ll change 0.00604\n",
            "Initialization converged: True\t time lapse 3.30839s\t ll -11.69415\n",
            "Initialization 0\n",
            "  Iteration 10\t time lapse 0.80485s\t ll change 1.03790\n",
            "  Iteration 20\t time lapse 0.73955s\t ll change 0.05210\n",
            "  Iteration 30\t time lapse 0.72311s\t ll change 0.35594\n",
            "  Iteration 40\t time lapse 0.73209s\t ll change 0.02594\n",
            "  Iteration 50\t time lapse 0.74133s\t ll change 0.00165\n",
            "Initialization converged: True\t time lapse 3.88193s\t ll -0.19989\n",
            "Initialization 0\n",
            "  Iteration 10\t time lapse 0.96748s\t ll change 1.87953\n",
            "  Iteration 20\t time lapse 0.85885s\t ll change 0.36060\n",
            "  Iteration 30\t time lapse 0.84186s\t ll change 0.02693\n",
            "  Iteration 40\t time lapse 0.83521s\t ll change 0.00374\n",
            "Initialization converged: True\t time lapse 3.58450s\t ll 11.88899\n",
            "Initialization 0\n",
            "  Iteration 10\t time lapse 1.15303s\t ll change 2.48407\n",
            "  Iteration 20\t time lapse 0.97830s\t ll change 0.00510\n",
            "Initialization converged: True\t time lapse 2.61056s\t ll 1.65693\n",
            "Initialization 0\n",
            "  Iteration 10\t time lapse 1.28481s\t ll change 0.64977\n",
            "  Iteration 20\t time lapse 1.11263s\t ll change 0.00203\n",
            "Initialization converged: True\t time lapse 3.07053s\t ll 7.25523\n",
            "Initialization 0\n",
            "  Iteration 10\t time lapse 1.73760s\t ll change 0.83362\n",
            "  Iteration 20\t time lapse 1.29900s\t ll change 1.10888\n",
            "  Iteration 30\t time lapse 1.26825s\t ll change 0.05286\n",
            "  Iteration 40\t time lapse 1.27906s\t ll change 0.00569\n",
            "Initialization converged: True\t time lapse 5.85468s\t ll 12.92955\n",
            "Initialization 0\n",
            "  Iteration 10\t time lapse 1.69062s\t ll change 1.08903\n",
            "  Iteration 20\t time lapse 1.44404s\t ll change 0.01004\n",
            "  Iteration 30\t time lapse 1.42030s\t ll change 0.00206\n",
            "Initialization converged: True\t time lapse 4.83347s\t ll 9.09077\n",
            "Initialization 0\n",
            "  Iteration 10\t time lapse 1.82203s\t ll change 0.80379\n",
            "  Iteration 20\t time lapse 1.55540s\t ll change 0.02258\n",
            "  Iteration 30\t time lapse 1.56492s\t ll change 0.01201\n",
            "  Iteration 40\t time lapse 1.58208s\t ll change 0.00139\n",
            "  Iteration 50\t time lapse 1.57021s\t ll change 0.00108\n",
            "  Iteration 60\t time lapse 1.58592s\t ll change 0.01273\n",
            "Initialization converged: True\t time lapse 11.12896s\t ll 13.26238\n",
            "Initialization 0\n",
            "  Iteration 10\t time lapse 1.95126s\t ll change 0.70975\n",
            "  Iteration 20\t time lapse 1.75326s\t ll change 0.04291\n",
            "  Iteration 30\t time lapse 1.69040s\t ll change 0.11851\n",
            "  Iteration 40\t time lapse 1.68055s\t ll change 0.00576\n",
            "Initialization converged: True\t time lapse 8.41960s\t ll 15.57183\n",
            "Initialization 0\n",
            "  Iteration 10\t time lapse 2.09327s\t ll change 1.19669\n",
            "  Iteration 20\t time lapse 1.88109s\t ll change 0.10729\n",
            "  Iteration 30\t time lapse 1.86232s\t ll change 0.00255\n",
            "Initialization converged: True\t time lapse 6.58420s\t ll 15.18887\n",
            "Initialization 0\n",
            "  Iteration 10\t time lapse 2.24381s\t ll change 1.56229\n",
            "  Iteration 20\t time lapse 1.97616s\t ll change 0.15452\n",
            "  Iteration 30\t time lapse 1.93932s\t ll change 0.02507\n",
            "  Iteration 40\t time lapse 1.95156s\t ll change 0.01141\n",
            "  Iteration 50\t time lapse 2.01956s\t ll change 0.00357\n",
            "  Iteration 60\t time lapse 2.00858s\t ll change 0.00431\n",
            "Initialization converged: True\t time lapse 13.72857s\t ll 20.85417\n",
            "Initialization 0\n",
            "  Iteration 10\t time lapse 2.52420s\t ll change 1.56111\n",
            "  Iteration 20\t time lapse 2.20886s\t ll change 0.12386\n",
            "  Iteration 30\t time lapse 2.23471s\t ll change 0.07898\n",
            "  Iteration 40\t time lapse 2.20632s\t ll change 0.16269\n",
            "Initialization converged: True\t time lapse 11.17847s\t ll 16.07435\n",
            "Initialization 0\n",
            "  Iteration 10\t time lapse 2.56439s\t ll change 0.44189\n",
            "  Iteration 20\t time lapse 2.23604s\t ll change 0.12378\n",
            "  Iteration 30\t time lapse 2.19625s\t ll change 0.05056\n",
            "Initialization converged: True\t time lapse 7.66117s\t ll 21.28087\n",
            "Initialization 0\n",
            "  Iteration 10\t time lapse 2.89219s\t ll change 1.56015\n",
            "  Iteration 20\t time lapse 2.34982s\t ll change 0.03850\n",
            "  Iteration 30\t time lapse 2.35258s\t ll change 0.17172\n",
            "Initialization converged: True\t time lapse 8.81181s\t ll 19.60055\n",
            "Initialization 0\n",
            "  Iteration 10\t time lapse 2.81653s\t ll change 1.37902\n",
            "  Iteration 20\t time lapse 2.57248s\t ll change 0.07424\n",
            "  Iteration 30\t time lapse 2.49103s\t ll change 0.08658\n",
            "  Iteration 40\t time lapse 2.50078s\t ll change 0.00359\n",
            "Initialization converged: True\t time lapse 12.67089s\t ll 19.36409\n",
            "Initialization 0\n",
            "  Iteration 10\t time lapse 2.90692s\t ll change 1.52603\n",
            "  Iteration 20\t time lapse 2.62892s\t ll change 0.10229\n",
            "  Iteration 30\t time lapse 2.64004s\t ll change 0.03790\n",
            "  Iteration 40\t time lapse 2.66309s\t ll change 0.00828\n",
            "  Iteration 50\t time lapse 2.66355s\t ll change 0.00507\n",
            "Initialization converged: True\t time lapse 14.60436s\t ll 18.30239\n",
            "Initialization 0\n",
            "  Iteration 10\t time lapse 3.21249s\t ll change 0.91808\n",
            "  Iteration 20\t time lapse 2.80322s\t ll change 0.84021\n",
            "  Iteration 30\t time lapse 2.79398s\t ll change 0.21950\n",
            "  Iteration 40\t time lapse 2.77482s\t ll change 0.00389\n",
            "Initialization converged: True\t time lapse 13.81574s\t ll 26.35586\n",
            "Initialization 0\n",
            "  Iteration 10\t time lapse 3.38309s\t ll change 0.60456\n",
            "  Iteration 20\t time lapse 2.90771s\t ll change 0.43242\n",
            "  Iteration 30\t time lapse 2.86636s\t ll change 0.02455\n",
            "  Iteration 40\t time lapse 2.95901s\t ll change 0.02088\n",
            "  Iteration 50\t time lapse 2.86210s\t ll change 0.06826\n",
            "Initialization converged: True\t time lapse 17.00192s\t ll 22.86109\n",
            "Initialization 0\n",
            "  Iteration 10\t time lapse 3.69306s\t ll change 0.91979\n",
            "  Iteration 20\t time lapse 2.99529s\t ll change 0.22110\n",
            "  Iteration 30\t time lapse 2.99993s\t ll change 0.26185\n",
            "  Iteration 40\t time lapse 3.04372s\t ll change 0.00361\n",
            "  Iteration 50\t time lapse 2.95737s\t ll change 0.00871\n",
            "Initialization converged: True\t time lapse 17.15693s\t ll 27.31121\n",
            "Initialization 0\n",
            "  Iteration 10\t time lapse 3.72272s\t ll change 0.18768\n",
            "  Iteration 20\t time lapse 3.17043s\t ll change 0.07645\n",
            "  Iteration 30\t time lapse 3.19751s\t ll change 0.11665\n",
            "  Iteration 40\t time lapse 3.20641s\t ll change 0.22285\n",
            "  Iteration 50\t time lapse 3.17880s\t ll change 0.11863\n",
            "  Iteration 60\t time lapse 3.09264s\t ll change 0.00144\n",
            "Initialization converged: True\t time lapse 20.51465s\t ll 21.45668\n",
            "Initialization 0\n",
            "  Iteration 10\t time lapse 3.61164s\t ll change 2.38968\n",
            "  Iteration 20\t time lapse 3.26235s\t ll change 0.06790\n",
            "  Iteration 30\t time lapse 3.21392s\t ll change 0.22287\n",
            "Initialization converged: True\t time lapse 12.95969s\t ll 23.36071\n",
            "Initialization 0\n",
            "  Iteration 10\t time lapse 3.84647s\t ll change 0.71324\n",
            "  Iteration 20\t time lapse 3.32023s\t ll change 0.24883\n",
            "  Iteration 30\t time lapse 3.34497s\t ll change 0.01984\n",
            "  Iteration 40\t time lapse 3.31775s\t ll change 0.00188\n",
            "Initialization converged: True\t time lapse 15.15542s\t ll 28.90012\n",
            "Initialization 0\n",
            "  Iteration 10\t time lapse 3.86033s\t ll change 1.89827\n",
            "  Iteration 20\t time lapse 3.41949s\t ll change 0.09188\n",
            "  Iteration 30\t time lapse 3.39234s\t ll change 0.00316\n",
            "Initialization converged: True\t time lapse 12.03976s\t ll 24.12224\n",
            "Initialization 0\n",
            "  Iteration 10\t time lapse 4.05251s\t ll change 0.40787\n",
            "  Iteration 20\t time lapse 3.61113s\t ll change 0.30291\n",
            "  Iteration 30\t time lapse 3.53235s\t ll change 0.03758\n",
            "  Iteration 40\t time lapse 3.54780s\t ll change 0.00327\n",
            "  Iteration 50\t time lapse 3.55210s\t ll change 0.00299\n",
            "  Iteration 60\t time lapse 3.54756s\t ll change 0.23051\n",
            "  Iteration 70\t time lapse 3.57218s\t ll change 0.00143\n",
            "Initialization converged: True\t time lapse 25.78364s\t ll 25.54140\n",
            "Initialization 0\n",
            "  Iteration 10\t time lapse 4.22293s\t ll change 1.74931\n",
            "  Iteration 20\t time lapse 3.74968s\t ll change 0.06721\n",
            "  Iteration 30\t time lapse 3.79246s\t ll change 0.75801\n",
            "  Iteration 40\t time lapse 3.67847s\t ll change 0.00127\n",
            "Initialization converged: True\t time lapse 15.83109s\t ll 24.93628\n",
            "Initialization 0\n",
            "  Iteration 10\t time lapse 4.44601s\t ll change 2.78274\n",
            "  Iteration 20\t time lapse 3.72050s\t ll change 0.03989\n",
            "  Iteration 30\t time lapse 3.77762s\t ll change 0.00711\n",
            "  Iteration 40\t time lapse 3.90289s\t ll change 0.00505\n",
            "Initialization converged: True\t time lapse 16.22856s\t ll 30.76876\n",
            "Initialization 0\n",
            "  Iteration 10\t time lapse 4.61118s\t ll change 1.96361\n",
            "  Iteration 20\t time lapse 4.06127s\t ll change 0.49105\n",
            "  Iteration 30\t time lapse 4.03989s\t ll change 0.03082\n",
            "  Iteration 40\t time lapse 4.02113s\t ll change 0.00046\n",
            "Initialization converged: True\t time lapse 16.73433s\t ll 28.08133\n",
            "Initialization 0\n",
            "  Iteration 10\t time lapse 4.87706s\t ll change 2.99246\n",
            "  Iteration 20\t time lapse 4.05232s\t ll change 0.41646\n",
            "  Iteration 30\t time lapse 4.13535s\t ll change 0.09800\n",
            "  Iteration 40\t time lapse 4.21977s\t ll change 0.01404\n",
            "Initialization converged: True\t time lapse 20.60987s\t ll 26.51459\n",
            "Initialization 0\n",
            "  Iteration 10\t time lapse 5.03191s\t ll change 2.69273\n",
            "  Iteration 20\t time lapse 4.26194s\t ll change 0.01877\n",
            "  Iteration 30\t time lapse 4.30044s\t ll change 0.00173\n",
            "Initialization converged: True\t time lapse 15.78370s\t ll 29.82893\n",
            "Initialization 0\n",
            "  Iteration 10\t time lapse 5.21006s\t ll change 1.81337\n",
            "  Iteration 20\t time lapse 4.54012s\t ll change 0.02687\n",
            "  Iteration 30\t time lapse 4.46436s\t ll change 0.00628\n",
            "Initialization converged: True\t time lapse 15.57569s\t ll 30.13662\n",
            "Initialization 0\n",
            "  Iteration 10\t time lapse 5.05150s\t ll change 3.61245\n",
            "  Iteration 20\t time lapse 4.42216s\t ll change 0.20504\n",
            "Initialization converged: True\t time lapse 13.03874s\t ll 28.71055\n",
            "Initialization 0\n",
            "  Iteration 10\t time lapse 5.20807s\t ll change 1.19854\n",
            "  Iteration 20\t time lapse 4.64270s\t ll change 0.29913\n",
            "Initialization converged: True\t time lapse 13.03946s\t ll 33.66518\n",
            "Initialization 0\n",
            "  Iteration 10\t time lapse 5.54877s\t ll change 1.51622\n",
            "  Iteration 20\t time lapse 4.50991s\t ll change 0.64820\n",
            "  Iteration 30\t time lapse 4.36435s\t ll change 0.00221\n",
            "  Iteration 40\t time lapse 4.44013s\t ll change 0.00297\n",
            "Initialization converged: True\t time lapse 20.68435s\t ll 32.39962\n",
            "Initialization 0\n",
            "  Iteration 10\t time lapse 5.37827s\t ll change 0.64628\n",
            "  Iteration 20\t time lapse 4.86221s\t ll change 0.05498\n",
            "  Iteration 30\t time lapse 4.84500s\t ll change 0.00803\n",
            "  Iteration 40\t time lapse 4.74742s\t ll change 0.00326\n",
            "Initialization converged: True\t time lapse 20.79941s\t ll 32.05117\n",
            "Initialization 0\n",
            "  Iteration 10\t time lapse 5.53641s\t ll change 1.26948\n",
            "  Iteration 20\t time lapse 4.99659s\t ll change 0.21551\n",
            "  Iteration 30\t time lapse 4.90530s\t ll change 1.13887\n",
            "  Iteration 40\t time lapse 4.76655s\t ll change 0.15309\n",
            "  Iteration 50\t time lapse 4.62959s\t ll change 0.00392\n",
            "  Iteration 60\t time lapse 4.58685s\t ll change 0.00517\n",
            "Initialization converged: True\t time lapse 31.77653s\t ll 31.57320\n",
            "Initialization 0\n",
            "  Iteration 10\t time lapse 5.78082s\t ll change 3.14529\n",
            "  Iteration 20\t time lapse 5.05802s\t ll change 0.08476\n",
            "  Iteration 30\t time lapse 5.01839s\t ll change 0.01969\n",
            "  Iteration 40\t time lapse 4.99690s\t ll change 0.16068\n",
            "Initialization converged: True\t time lapse 23.81413s\t ll 33.55491\n",
            "Initialization 0\n",
            "  Iteration 10\t time lapse 5.93709s\t ll change 3.17706\n",
            "  Iteration 20\t time lapse 5.41995s\t ll change 0.62482\n",
            "Initialization converged: True\t time lapse 16.18333s\t ll 32.29844\n",
            "Initialization 0\n",
            "  Iteration 10\t time lapse 5.93867s\t ll change 2.82813\n",
            "  Iteration 20\t time lapse 5.22497s\t ll change 0.20270\n",
            "  Iteration 30\t time lapse 5.24220s\t ll change 0.03494\n",
            "  Iteration 40\t time lapse 5.20457s\t ll change 0.09268\n",
            "Initialization converged: True\t time lapse 24.22901s\t ll 33.52202\n",
            "Initialization 0\n",
            "  Iteration 10\t time lapse 6.01488s\t ll change 2.50235\n",
            "  Iteration 20\t time lapse 5.41636s\t ll change 0.02981\n",
            "  Iteration 30\t time lapse 5.33205s\t ll change 0.34749\n",
            "  Iteration 40\t time lapse 5.24381s\t ll change 0.00011\n",
            "Initialization converged: True\t time lapse 22.00799s\t ll 34.86217\n",
            "Initialization 0\n",
            "  Iteration 10\t time lapse 5.95833s\t ll change 2.30063\n",
            "  Iteration 20\t time lapse 5.25141s\t ll change 0.10950\n",
            "  Iteration 30\t time lapse 5.34409s\t ll change 0.02361\n",
            "Initialization converged: True\t time lapse 18.16587s\t ll 35.44801\n",
            "Initialization 0\n",
            "  Iteration 10\t time lapse 6.09581s\t ll change 3.46581\n",
            "  Iteration 20\t time lapse 5.48311s\t ll change 0.04992\n",
            "Initialization converged: True\t time lapse 16.00348s\t ll 31.13093\n",
            "Initialization 0\n",
            "  Iteration 10\t time lapse 6.16252s\t ll change 0.91492\n",
            "  Iteration 20\t time lapse 5.67745s\t ll change 0.10632\n",
            "  Iteration 30\t time lapse 5.67209s\t ll change 0.02781\n",
            "  Iteration 40\t time lapse 5.62492s\t ll change 0.00488\n",
            "Initialization converged: True\t time lapse 26.47584s\t ll 33.97345\n",
            "Initialization 0\n",
            "  Iteration 10\t time lapse 6.61447s\t ll change 1.08964\n",
            "  Iteration 20\t time lapse 5.87858s\t ll change 0.12422\n",
            "  Iteration 30\t time lapse 5.85876s\t ll change 0.01794\n",
            "  Iteration 40\t time lapse 5.85605s\t ll change 0.06385\n",
            "  Iteration 50\t time lapse 5.91446s\t ll change 0.00318\n",
            "Initialization converged: True\t time lapse 32.46827s\t ll 32.28860\n",
            "Initialization 0\n",
            "  Iteration 10\t time lapse 6.58212s\t ll change 1.25334\n",
            "  Iteration 20\t time lapse 5.97782s\t ll change 0.22835\n",
            "  Iteration 30\t time lapse 5.93445s\t ll change 0.00454\n",
            "Initialization converged: True\t time lapse 23.84487s\t ll 29.24066\n",
            "Initialization 0\n",
            "  Iteration 10\t time lapse 6.57976s\t ll change 2.03893\n",
            "  Iteration 20\t time lapse 5.74190s\t ll change 0.27764\n",
            "Initialization converged: True\t time lapse 16.79749s\t ll 33.54852\n"
          ]
        }
      ]
    },
    {
      "cell_type": "markdown",
      "metadata": {
        "id": "7elJpVIWLtag"
      },
      "source": [
        "El clustering o análisis de cluster es una técnica de aprendizaje automático que agrupa el conjunto de datos sin etiquetar. Se puede definir como \"Una forma de agrupar los puntos de datos en diferentes clusters, que consisten en puntos de datos similares."
      ]
    },
    {
      "cell_type": "code",
      "metadata": {
        "colab": {
          "base_uri": "https://localhost:8080/",
          "height": 278
        },
        "id": "2C26YviRPOws",
        "outputId": "a0e0d22d-3f3e-4e5b-ff37-51c3c377a7b6"
      },
      "source": [
        "plt.plot(range(2,50),bic,\"bo-\",\"bic\")\n",
        "plt.plot(range(2,50),aic,\"go-\",\"aic\")\n",
        "plt.xlabel(\"clusters\")\n",
        "plt.show()"
      ],
      "execution_count": 45,
      "outputs": [
        {
          "output_type": "display_data",
          "data": {
            "image/png": "[encoded data removed]",
            "text/plain": [
              "<Figure size 432x288 with 1 Axes>"
            ]
          },
          "metadata": {
            "needs_background": "light"
          }
        }
      ]
    },
    {
      "cell_type": "code",
      "metadata": {
        "colab": {
          "base_uri": "https://localhost:8080/"
        },
        "id": "VlVCgeEtMXTo",
        "outputId": "a25142dc-5019-4731-ac48-3406f1768b71"
      },
      "source": [
        "np.argmin(bic)"
      ],
      "execution_count": 46,
      "outputs": [
        {
          "output_type": "execute_result",
          "data": {
            "text/plain": [
              "42"
            ]
          },
          "metadata": {},
          "execution_count": 46
        }
      ]
    },
    {
      "cell_type": "markdown",
      "metadata": {
        "id": "fi517nY1ctqK"
      },
      "source": [
        "Tenemos el valor mínimo en 45, vamos a explorar algunos clusters más, para confirmar"
      ]
    },
    {
      "cell_type": "code",
      "metadata": {
        "id": "mhw6WkPMoYie",
        "colab": {
          "base_uri": "https://localhost:8080/"
        },
        "outputId": "59097cd5-1421-4025-f4bf-7917cad0606b"
      },
      "source": [
        "gauss = []\n",
        "for cluster in range(50,60):\n",
        "    gm = GaussianMixture(n_components=cluster,verbose=10).fit(X_train)\n",
        "    bic.append(gm.bic(X_train))\n",
        "    aic.append(gm.aic(X_train))\n",
        "    gauss.append(gm)"
      ],
      "execution_count": 48,
      "outputs": [
        {
          "output_type": "stream",
          "name": "stdout",
          "text": [
            "Initialization 0\n",
            "  Iteration 10\t time lapse 6.77485s\t ll change 1.13689\n",
            "  Iteration 20\t time lapse 5.70619s\t ll change 0.24235\n",
            "  Iteration 30\t time lapse 5.62522s\t ll change 0.02670\n",
            "Initialization converged: True\t time lapse 23.24692s\t ll 34.64813\n",
            "Initialization 0\n",
            "  Iteration 10\t time lapse 6.97626s\t ll change 1.51703\n",
            "  Iteration 20\t time lapse 6.02231s\t ll change 0.09699\n",
            "  Iteration 30\t time lapse 5.89257s\t ll change 0.00108\n",
            "Initialization converged: True\t time lapse 19.50632s\t ll 36.61353\n",
            "Initialization 0\n",
            "  Iteration 10\t time lapse 6.80368s\t ll change 2.80941\n",
            "  Iteration 20\t time lapse 5.80380s\t ll change 0.43313\n",
            "  Iteration 30\t time lapse 5.77970s\t ll change 0.36541\n",
            "Initialization converged: True\t time lapse 21.84699s\t ll 34.74559\n",
            "Initialization 0\n",
            "  Iteration 10\t time lapse 6.61188s\t ll change 1.54595\n",
            "  Iteration 20\t time lapse 5.70068s\t ll change 0.05727\n",
            "  Iteration 30\t time lapse 5.68805s\t ll change 0.05612\n",
            "Initialization converged: True\t time lapse 21.41337s\t ll 36.55738\n",
            "Initialization 0\n",
            "  Iteration 10\t time lapse 6.95500s\t ll change 1.78233\n",
            "  Iteration 20\t time lapse 5.91098s\t ll change 0.22028\n",
            "  Iteration 30\t time lapse 5.76817s\t ll change 0.00811\n",
            "Initialization converged: True\t time lapse 23.24386s\t ll 35.30666\n",
            "Initialization 0\n",
            "  Iteration 10\t time lapse 6.89327s\t ll change 2.33310\n",
            "  Iteration 20\t time lapse 6.28677s\t ll change 0.12044\n",
            "  Iteration 30\t time lapse 6.36527s\t ll change 0.00663\n",
            "  Iteration 40\t time lapse 6.33886s\t ll change 0.00154\n",
            "  Iteration 50\t time lapse 6.27675s\t ll change 0.00749\n",
            "  Iteration 60\t time lapse 6.18169s\t ll change 0.00725\n",
            "  Iteration 70\t time lapse 6.19672s\t ll change 0.00120\n",
            "Initialization converged: True\t time lapse 46.43977s\t ll 36.85273\n",
            "Initialization 0\n",
            "  Iteration 10\t time lapse 7.23445s\t ll change 0.52070\n",
            "  Iteration 20\t time lapse 6.25425s\t ll change 0.27918\n",
            "  Iteration 30\t time lapse 6.26695s\t ll change 0.00839\n",
            "  Iteration 40\t time lapse 6.27502s\t ll change 0.01406\n",
            "Initialization converged: True\t time lapse 29.19189s\t ll 36.24634\n",
            "Initialization 0\n",
            "  Iteration 10\t time lapse 7.49034s\t ll change 0.84426\n",
            "  Iteration 20\t time lapse 6.50849s\t ll change 0.11353\n",
            "  Iteration 30\t time lapse 6.55487s\t ll change 0.00952\n",
            "  Iteration 40\t time lapse 6.26471s\t ll change 0.00963\n",
            "  Iteration 50\t time lapse 6.27245s\t ll change 0.08324\n",
            "Initialization converged: True\t time lapse 36.89556s\t ll 34.85717\n",
            "Initialization 0\n",
            "  Iteration 10\t time lapse 7.39072s\t ll change 1.75888\n",
            "  Iteration 20\t time lapse 6.50247s\t ll change 0.11806\n",
            "  Iteration 30\t time lapse 6.52392s\t ll change 0.01610\n",
            "  Iteration 40\t time lapse 6.29922s\t ll change 0.09190\n",
            "Initialization converged: True\t time lapse 32.38811s\t ll 36.32762\n",
            "Initialization 0\n",
            "  Iteration 10\t time lapse 7.75868s\t ll change 1.53853\n",
            "  Iteration 20\t time lapse 6.92802s\t ll change 0.47892\n",
            "  Iteration 30\t time lapse 6.91141s\t ll change 0.00306\n",
            "  Iteration 40\t time lapse 6.86768s\t ll change 0.00340\n",
            "  Iteration 50\t time lapse 6.88068s\t ll change 0.00649\n",
            "Initialization converged: True\t time lapse 38.12092s\t ll 36.18036\n"
          ]
        }
      ]
    },
    {
      "cell_type": "code",
      "metadata": {
        "colab": {
          "base_uri": "https://localhost:8080/",
          "height": 278
        },
        "id": "dmQiScE8Mlo_",
        "outputId": "60a45e37-8b23-4bf3-d760-b773a38a819d"
      },
      "source": [
        "plt.plot(range(2,60),bic,\"bo-\",\"bic\")\n",
        "plt.plot(range(2,60),aic,\"go-\",\"aic\")\n",
        "plt.xlabel(\"clusters\")\n",
        "plt.show()"
      ],
      "execution_count": 49,
      "outputs": [
        {
          "output_type": "display_data",
          "data": {
            "image/png": "[encoded data removed]",
            "text/plain": [
              "<Figure size 432x288 with 1 Axes>"
            ]
          },
          "metadata": {
            "needs_background": "light"
          }
        }
      ]
    },
    {
      "cell_type": "markdown",
      "metadata": {
        "id": "mUIBHAQxRJVZ"
      },
      "source": [
        "\n",
        "\n"
      ]
    }
  ]
}